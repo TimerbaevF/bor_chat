{
  "nbformat": 4,
  "nbformat_minor": 0,
  "metadata": {
    "colab": {
      "provenance": [],
      "mount_file_id": "1SfwijgN00XiNk9Hq7zpebh8C4eBQX3Fa",
      "authorship_tag": "ABX9TyNfI7QACkXpu4L17hR96SD+",
      "include_colab_link": true
    },
    "kernelspec": {
      "name": "python3",
      "display_name": "Python 3"
    },
    "language_info": {
      "name": "python"
    }
  },
  "cells": [
    {
      "cell_type": "markdown",
      "metadata": {
        "id": "view-in-github",
        "colab_type": "text"
      },
      "source": [
        "<a href=\"https://colab.research.google.com/github/TimerbaevF/bor_chat/blob/main/Tele_Bot_Arseni.ipynb\" target=\"_parent\"><img src=\"https://colab.research.google.com/assets/colab-badge.svg\" alt=\"Open In Colab\"/></a>"
      ]
    },
    {
      "cell_type": "code",
      "source": [
        "pip install SpeechRecognition"
      ],
      "metadata": {
        "colab": {
          "base_uri": "https://localhost:8080/"
        },
        "id": "H40VMrzgO9zd",
        "outputId": "b7d4f4cb-6a32-4d00-858b-6a59ba6dda9f"
      },
      "execution_count": 2,
      "outputs": [
        {
          "output_type": "stream",
          "name": "stdout",
          "text": [
            "Looking in indexes: https://pypi.org/simple, https://us-python.pkg.dev/colab-wheels/public/simple/\n",
            "Requirement already satisfied: SpeechRecognition in /usr/local/lib/python3.8/dist-packages (3.9.0)\n",
            "Requirement already satisfied: requests>=2.26.0 in /usr/local/lib/python3.8/dist-packages (from SpeechRecognition) (2.28.1)\n",
            "Requirement already satisfied: urllib3<1.27,>=1.21.1 in /usr/local/lib/python3.8/dist-packages (from requests>=2.26.0->SpeechRecognition) (1.24.3)\n",
            "Requirement already satisfied: certifi>=2017.4.17 in /usr/local/lib/python3.8/dist-packages (from requests>=2.26.0->SpeechRecognition) (2022.9.24)\n",
            "Requirement already satisfied: charset-normalizer<3,>=2 in /usr/local/lib/python3.8/dist-packages (from requests>=2.26.0->SpeechRecognition) (2.1.1)\n",
            "Requirement already satisfied: idna<4,>=2.5 in /usr/local/lib/python3.8/dist-packages (from requests>=2.26.0->SpeechRecognition) (2.10)\n"
          ]
        }
      ]
    },
    {
      "cell_type": "code",
      "source": [
        "pip install virtualenv"
      ],
      "metadata": {
        "id": "Cd19ddFpPBCQ",
        "colab": {
          "base_uri": "https://localhost:8080/"
        },
        "outputId": "f7889fb5-06c1-4b4a-9048-0168aac82a08"
      },
      "execution_count": 3,
      "outputs": [
        {
          "output_type": "stream",
          "name": "stdout",
          "text": [
            "Looking in indexes: https://pypi.org/simple, https://us-python.pkg.dev/colab-wheels/public/simple/\n",
            "Collecting virtualenv\n",
            "  Downloading virtualenv-20.17.1-py3-none-any.whl (8.8 MB)\n",
            "\u001b[K     |████████████████████████████████| 8.8 MB 8.8 MB/s \n",
            "\u001b[?25hCollecting distlib<1,>=0.3.6\n",
            "  Downloading distlib-0.3.6-py2.py3-none-any.whl (468 kB)\n",
            "\u001b[K     |████████████████████████████████| 468 kB 55.7 MB/s \n",
            "\u001b[?25hRequirement already satisfied: filelock<4,>=3.4.1 in /usr/local/lib/python3.8/dist-packages (from virtualenv) (3.8.0)\n",
            "Requirement already satisfied: platformdirs<3,>=2.4 in /usr/local/lib/python3.8/dist-packages (from virtualenv) (2.5.4)\n",
            "Installing collected packages: distlib, virtualenv\n",
            "Successfully installed distlib-0.3.6 virtualenv-20.17.1\n"
          ]
        }
      ]
    },
    {
      "cell_type": "code",
      "execution_count": 4,
      "metadata": {
        "colab": {
          "base_uri": "https://localhost:8080/"
        },
        "id": "mIWGv-WG6Mq_",
        "outputId": "40a52202-905c-45be-c015-d07a4f5701d6"
      },
      "outputs": [
        {
          "output_type": "stream",
          "name": "stdout",
          "text": [
            "Looking in indexes: https://pypi.org/simple, https://us-python.pkg.dev/colab-wheels/public/simple/\n",
            "Collecting pyTelegramBotAPI\n",
            "  Downloading pyTelegramBotAPI-4.8.0.tar.gz (217 kB)\n",
            "\u001b[K     |████████████████████████████████| 217 kB 6.0 MB/s \n",
            "\u001b[?25hRequirement already satisfied: requests in /usr/local/lib/python3.8/dist-packages (from pyTelegramBotAPI) (2.28.1)\n",
            "Requirement already satisfied: idna<4,>=2.5 in /usr/local/lib/python3.8/dist-packages (from requests->pyTelegramBotAPI) (2.10)\n",
            "Requirement already satisfied: certifi>=2017.4.17 in /usr/local/lib/python3.8/dist-packages (from requests->pyTelegramBotAPI) (2022.9.24)\n",
            "Requirement already satisfied: charset-normalizer<3,>=2 in /usr/local/lib/python3.8/dist-packages (from requests->pyTelegramBotAPI) (2.1.1)\n",
            "Requirement already satisfied: urllib3<1.27,>=1.21.1 in /usr/local/lib/python3.8/dist-packages (from requests->pyTelegramBotAPI) (1.24.3)\n",
            "Building wheels for collected packages: pyTelegramBotAPI\n",
            "  Building wheel for pyTelegramBotAPI (setup.py) ... \u001b[?25l\u001b[?25hdone\n",
            "  Created wheel for pyTelegramBotAPI: filename=pyTelegramBotAPI-4.8.0-py3-none-any.whl size=200125 sha256=d6899fe072b09f312320905b536a4897461bf2cbb763b758d787d433ed6dc06b\n",
            "  Stored in directory: /root/.cache/pip/wheels/c2/05/70/8409792e663e67a70e057df1f18d070105c1c457b3f410bbb0\n",
            "Successfully built pyTelegramBotAPI\n",
            "Installing collected packages: pyTelegramBotAPI\n",
            "Successfully installed pyTelegramBotAPI-4.8.0\n"
          ]
        }
      ],
      "source": [
        "pip install pyTelegramBotAPI"
      ]
    },
    {
      "cell_type": "code",
      "source": [
        "pip install Wikipedia"
      ],
      "metadata": {
        "colab": {
          "base_uri": "https://localhost:8080/"
        },
        "id": "rnq09g1H6koW",
        "outputId": "063a9990-6245-4cee-9212-8eaf1d7b66b4"
      },
      "execution_count": 5,
      "outputs": [
        {
          "output_type": "stream",
          "name": "stdout",
          "text": [
            "Looking in indexes: https://pypi.org/simple, https://us-python.pkg.dev/colab-wheels/public/simple/\n",
            "Collecting Wikipedia\n",
            "  Downloading wikipedia-1.4.0.tar.gz (27 kB)\n",
            "Requirement already satisfied: beautifulsoup4 in /usr/local/lib/python3.8/dist-packages (from Wikipedia) (4.6.3)\n",
            "Requirement already satisfied: requests<3.0.0,>=2.0.0 in /usr/local/lib/python3.8/dist-packages (from Wikipedia) (2.28.1)\n",
            "Requirement already satisfied: certifi>=2017.4.17 in /usr/local/lib/python3.8/dist-packages (from requests<3.0.0,>=2.0.0->Wikipedia) (2022.9.24)\n",
            "Requirement already satisfied: charset-normalizer<3,>=2 in /usr/local/lib/python3.8/dist-packages (from requests<3.0.0,>=2.0.0->Wikipedia) (2.1.1)\n",
            "Requirement already satisfied: idna<4,>=2.5 in /usr/local/lib/python3.8/dist-packages (from requests<3.0.0,>=2.0.0->Wikipedia) (2.10)\n",
            "Requirement already satisfied: urllib3<1.27,>=1.21.1 in /usr/local/lib/python3.8/dist-packages (from requests<3.0.0,>=2.0.0->Wikipedia) (1.24.3)\n",
            "Building wheels for collected packages: Wikipedia\n",
            "  Building wheel for Wikipedia (setup.py) ... \u001b[?25l\u001b[?25hdone\n",
            "  Created wheel for Wikipedia: filename=wikipedia-1.4.0-py3-none-any.whl size=11695 sha256=825ad49faceb022a55634a266d76e89d52fe76b6b3d0f262ebc91a3e2ee070c4\n",
            "  Stored in directory: /root/.cache/pip/wheels/07/93/05/72c05349177dca2e0ba31a33ba4f7907606f7ddef303517c6a\n",
            "Successfully built Wikipedia\n",
            "Installing collected packages: Wikipedia\n",
            "Successfully installed Wikipedia-1.4.0\n"
          ]
        }
      ]
    },
    {
      "cell_type": "code",
      "source": [
        "pip install scikit-learn"
      ],
      "metadata": {
        "colab": {
          "base_uri": "https://localhost:8080/"
        },
        "id": "3k17JLLl6oHN",
        "outputId": "c9144313-91cc-48c0-d377-e6425fbcca22"
      },
      "execution_count": 6,
      "outputs": [
        {
          "output_type": "stream",
          "name": "stdout",
          "text": [
            "Looking in indexes: https://pypi.org/simple, https://us-python.pkg.dev/colab-wheels/public/simple/\n",
            "Requirement already satisfied: scikit-learn in /usr/local/lib/python3.8/dist-packages (1.0.2)\n",
            "Requirement already satisfied: numpy>=1.14.6 in /usr/local/lib/python3.8/dist-packages (from scikit-learn) (1.21.6)\n",
            "Requirement already satisfied: threadpoolctl>=2.0.0 in /usr/local/lib/python3.8/dist-packages (from scikit-learn) (3.1.0)\n",
            "Requirement already satisfied: joblib>=0.11 in /usr/local/lib/python3.8/dist-packages (from scikit-learn) (1.2.0)\n",
            "Requirement already satisfied: scipy>=1.1.0 in /usr/local/lib/python3.8/dist-packages (from scikit-learn) (1.7.3)\n"
          ]
        }
      ]
    },
    {
      "cell_type": "code",
      "source": [
        "import telebot, wikipedia, re\n",
        "from sklearn.feature_extraction.text import CountVectorizer\n",
        "from sklearn.linear_model import LogisticRegression\n",
        "import uuid\n",
        "import os \n",
        "import speech_recognition as sr\n",
        "\n",
        "wikipedia.set_lang(\"ru\")\n",
        "bot = telebot.TeleBot('5584516928:AAGzyN8wC2jt8unDKmS4h6qXNhqlvbdQ8Hs')"
      ],
      "metadata": {
        "id": "oECrrzLU6uP9"
      },
      "execution_count": 7,
      "outputs": []
    },
    {
      "cell_type": "code",
      "source": [
        "def clean_str(r):\n",
        "\tr = r.lower()\n",
        "\tr = [c for c in r if c in alphabet]\n",
        "\treturn ''.join(r)\n",
        "\n",
        "alphabet = ' 1234567890-йцукенгшщзхъфывапролджэячсмитьбюёqwertyuiopasdfghjklzxcvbnm?%.,()!:;'"
      ],
      "metadata": {
        "id": "u6Ybmh0e9hIF"
      },
      "execution_count": 8,
      "outputs": []
    },
    {
      "cell_type": "code",
      "source": [
        "from google.colab import drive\n",
        "drive.mount('/content/gdrive')"
      ],
      "metadata": {
        "id": "6hdYPsBzPU6Z",
        "colab": {
          "base_uri": "https://localhost:8080/"
        },
        "outputId": "269f32d6-44f4-448b-c65b-0a95d637c526"
      },
      "execution_count": 9,
      "outputs": [
        {
          "output_type": "stream",
          "name": "stdout",
          "text": [
            "Mounted at /content/gdrive\n"
          ]
        }
      ]
    },
    {
      "cell_type": "code",
      "source": [
        "def update():\n",
        "\twith open('/content/gdrive/MyDrive/Colab Notebooks/dialogues.txt', encoding='utf-8') as f:\n",
        "\t\tcontent = f.read()\n",
        "\t\n",
        "\tblocks = content.split('\\n')\n",
        "\tdataset = []\n",
        "\t\n",
        "\tfor block in blocks:\n",
        "\t\treplicas = block.split('\\\\')[:2]\n",
        "\t\tif len(replicas) == 2:\n",
        "\t\t\tpair = [clean_str(replicas[0]), clean_str(replicas[1])]\n",
        "\t\t\tif pair[0] and pair[1]:\n",
        "\t\t\t\tdataset.append(pair)\n",
        "\t\n",
        "\tX_text = []\n",
        "\ty = []\n",
        "\t\n",
        "\tfor question, answer in dataset[:10000]:\n",
        "\t\tX_text.append(question)\n",
        "\t\ty += [answer]\n",
        "\t\n",
        "\tglobal vectorizer\n",
        "\tvectorizer = CountVectorizer()\n",
        "\tX = vectorizer.fit_transform(X_text)\n",
        "\t\n",
        "\tglobal clf\n",
        "\tclf = LogisticRegression()\n",
        "\tclf.fit(X, y)\n",
        "\n",
        "update()"
      ],
      "metadata": {
        "id": "WvVSYeO79nvl"
      },
      "execution_count": 11,
      "outputs": []
    },
    {
      "cell_type": "markdown",
      "source": [],
      "metadata": {
        "id": "fs7IuwIb-8o0"
      }
    },
    {
      "cell_type": "code",
      "source": [
        "\n",
        "def get_generative_replica(text):\n",
        "\ttext_vector = vectorizer.transform([text]).toarray()[0]\n",
        "\tquestion = clf.predict([text_vector])[0]\n",
        "\treturn question"
      ],
      "metadata": {
        "id": "eLmzz_ZP-9j8"
      },
      "execution_count": 12,
      "outputs": []
    },
    {
      "cell_type": "code",
      "source": [
        "def getwiki(s):\n",
        "    try:\n",
        "        ny = wikipedia.page(s)\n",
        "        wikitext=ny.content[:1000]\n",
        "        wikimas=wikitext.split('.')\n",
        "        wikimas = wikimas[:-1]\n",
        "        wikitext2 = ''\n",
        "        for x in wikimas:\n",
        "            if not('==' in x):\n",
        "                if(len((x.strip()))>3):\n",
        "                   wikitext2=wikitext2+x+'.'\n",
        "            else:\n",
        "                break\n",
        "        wikitext2=re.sub('\\([^()]*\\)', '', wikitext2)\n",
        "        wikitext2=re.sub('\\([^()]*\\)', '', wikitext2)\n",
        "        wikitext2=re.sub('\\{[^\\{\\}]*\\}', '', wikitext2)\n",
        "        return wikitext2\n",
        "    except Exception as e:\n",
        "        return 'В Википедии нет информации об этом'"
      ],
      "metadata": {
        "id": "0T86u-H6_MZ8"
      },
      "execution_count": 13,
      "outputs": []
    },
    {
      "cell_type": "code",
      "source": [
        "@bot.message_handler(commands=['start'])\n",
        "def start_message(message):\n",
        "\tbot.send_message(message.chat.id,\"Здравствуйте, Сэр.\")\n",
        "\n",
        "question = \"\"\n",
        "\n",
        "@bot.message_handler(content_types=['text'])\n",
        "def get_text_messages(message):\n",
        "\tcommand = message.text.lower()\n",
        "\tif command ==\"не так\":\n",
        "\t\tbot.send_message(message.from_user.id, \"а как?\")\n",
        "\t\tbot.register_next_step_handler(message, wrong)\n",
        "\telse:\n",
        "\t\tglobal question\n",
        "\t\tquestion = command\n",
        "\t\treply = get_generative_replica(command)\n",
        "\t\tif reply==\"вики \":\n",
        "\t\t\tbot.send_message(message.from_user.id, getwiki(command))\n",
        "\t\telse:\n",
        "\t\t\tbot.send_message(message.from_user.id, reply)\n",
        "\n",
        "def wrong(message):\n",
        "\ta = f\"{question}\\{message.text.lower()} \\n\"\n",
        "\twith open('/content/drive/MyDrive/Colab Notebooks/dialogues.txt', \"a\", encoding='utf-8') as f:\n",
        "\t\tf.write(a)\n",
        "\tbot.send_message(message.from_user.id, \"Готово\")\n",
        "\tupdate()"
      ],
      "metadata": {
        "id": "jS0i1ess_RtU"
      },
      "execution_count": 14,
      "outputs": []
    },
    {
      "cell_type": "code",
      "source": [
        "@bot.message_handler(content_types=['voice'])\n",
        "def get_audio_messages(message):\n",
        "\n",
        "    try:\n",
        "        print(\"Started recognition...\")\n",
        "\n",
        "        file_info = bot.get_file(message.voice.file_id)\n",
        "        path = os.path.splitext(file_info.file_path)[0]\n",
        "        fname = os.path.basename(path) \n",
        "        doc = requests.get('https://api.telegram.org/file/bot{0}/{1}'.format('5704076854:AAFivFMNymruBg4KXoEJBVAIB29zDA5u_lE', file_info.file_path))\n",
        "        with open(fname+'.oga', 'wb') as f:\n",
        "            f.write(doc.content)\n",
        "        process = subprocess.run(['ffmpeg', '-i', fname+'.oga', fname+'.wav'])\n",
        "        result = audio_to_text(fname+'.wav') \n",
        "        question = get_generative_replica(format(result))\n",
        "        bot.reply_to(message, question)\n",
        "    except sr.UnknownValueError as e:\n",
        "        bot.send_message(message.from_user.id,  \"Прошу прощения, но я не разобрал сообщение...\")\n",
        "        with open(logfile, 'a', encoding='utf-8') as f:\n",
        "            f.write(str(datetime.datetime.today().strftime(\"%H:%M:%S\")) + ':' + str(message.from_user.id) + ':' + str(message.from_user.first_name) + '_' + str(message.from_user.last_name) + ':' + str(message.from_user.username) +':'+ str(message.from_user.language_code) + ':Message is empty.\\n')\n",
        "    except Exception as e:\n",
        "        bot.send_message(message.from_user.id,  \"Что-то пошло не так...\")\n",
        "        \n",
        "        with open(logfile, 'a', encoding='utf-8') as f:\n",
        "            f.write(str(datetime.datetime.today().strftime(\"%H:%M:%S\")) + ':' + str(message.from_user.id) + ':' + str(message.from_user.first_name) + '_' + str(message.from_user.last_name) + ':' + str(message.from_user.username) +':'+ str(message.from_user.language_code) +':' + str(e) + '\\n')\n",
        "    finally:\n",
        "        os.remove(fname+'.wav')\n",
        "        os.remove(fname+'.oga')"
      ],
      "metadata": {
        "id": "N2hRXGj6CX9_"
      },
      "execution_count": 15,
      "outputs": []
    },
    {
      "cell_type": "code",
      "source": [
        "def audio_to_text(dest_name: str):\n",
        "    r = sr.Recognizer()\n",
        "    message = sr.AudioFile(dest_name)\n",
        "    with message as source:\n",
        "        audio = r.record(source)\n",
        "    result = r.recognize_google(audio, language=\"ru_RU\")\n",
        "    return result"
      ],
      "metadata": {
        "id": "vezKf0o1Ciuu"
      },
      "execution_count": 16,
      "outputs": []
    },
    {
      "cell_type": "code",
      "source": [
        "bot.polling(none_stop=True)"
      ],
      "metadata": {
        "id": "6jIsc8wAAhrN"
      },
      "execution_count": null,
      "outputs": []
    }
  ]
}